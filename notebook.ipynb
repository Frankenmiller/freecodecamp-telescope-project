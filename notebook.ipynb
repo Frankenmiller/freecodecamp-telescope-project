{
 "cells": [
  {
   "cell_type": "markdown",
   "id": "c977f08a",
   "metadata": {},
   "source": [
    "<h2 style=\"color: #808080; background-color:#9aa9a9; text-align:center; border: 3px solid #000000\"><span style=\"color:#670100; font-weight:800\">MACHINE LEARNING FOR EVERYBODY</h2>"
   ]
  },
  {
   "cell_type": "code",
   "execution_count": 2,
   "id": "6c5264a8",
   "metadata": {},
   "outputs": [],
   "source": [
    "import pandas as pandas\n",
    "import matplotlib.pyplot as plt\n",
    "import numpy as numpy"
   ]
  },
  {
   "cell_type": "code",
   "execution_count": null,
   "id": "c3407f76",
   "metadata": {},
   "outputs": [],
   "source": [
    "cols = [\"fLength\", \"fWidth\", \"fSize\", \"fConc\", \"fConc1\", \"fAsym\", \"fm3Long\", \"fm3Trans\", \"fAlpha\", \"fDist\", \"class\"]\n",
    "dataframe = pandas.read_csv(\"magic04.csv\", names=cols)\n",
    "print(da)"
   ]
  }
 ],
 "metadata": {
  "kernelspec": {
   "display_name": "Python 3 (ipykernel)",
   "language": "python",
   "name": "python3"
  },
  "language_info": {
   "codemirror_mode": {
    "name": "ipython",
    "version": 3
   },
   "file_extension": ".py",
   "mimetype": "text/x-python",
   "name": "python",
   "nbconvert_exporter": "python",
   "pygments_lexer": "ipython3",
   "version": "3.9.7"
  }
 },
 "nbformat": 4,
 "nbformat_minor": 5
}
